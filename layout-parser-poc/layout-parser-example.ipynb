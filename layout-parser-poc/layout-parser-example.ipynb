{
 "cells": [
  {
   "cell_type": "code",
   "execution_count": 3,
   "id": "46b82466-27f2-4170-b1f6-35d8f7aa3c84",
   "metadata": {},
   "outputs": [],
   "source": [
    "import layoutparser as lp \n",
    "\n",
    "import matplotlib.pyplot as plt\n",
    "%matplotlib inline \n",
    "\n",
    "import pandas as pd\n",
    "import numpy as np\n",
    "import cv2"
   ]
  },
  {
   "cell_type": "code",
   "execution_count": null,
   "id": "a073a0a4-5ca8-4991-827c-346e8b66dc75",
   "metadata": {},
   "outputs": [],
   "source": []
  },
  {
   "cell_type": "code",
   "execution_count": 4,
   "id": "171f0f59-0aa0-458d-a3ea-e4642f597f35",
   "metadata": {},
   "outputs": [],
   "source": [
    "ocr_agent = lp.GCVAgent.with_credential(\"./gcp-service-account.json\",\n",
    "                                       languages = ['en'])"
   ]
  },
  {
   "cell_type": "code",
   "execution_count": null,
   "id": "606358c8-5ada-4aed-b1cc-49629b739871",
   "metadata": {},
   "outputs": [],
   "source": []
  }
 ],
 "metadata": {
  "kernelspec": {
   "display_name": "Python 3 (ipykernel)",
   "language": "python",
   "name": "python3"
  },
  "language_info": {
   "codemirror_mode": {
    "name": "ipython",
    "version": 3
   },
   "file_extension": ".py",
   "mimetype": "text/x-python",
   "name": "python",
   "nbconvert_exporter": "python",
   "pygments_lexer": "ipython3",
   "version": "3.9.10"
  }
 },
 "nbformat": 4,
 "nbformat_minor": 5
}
